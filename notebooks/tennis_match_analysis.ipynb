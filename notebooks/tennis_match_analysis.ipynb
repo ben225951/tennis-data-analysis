{
 "cells": [
  {
   "cell_type": "code",
   "execution_count": null,
   "id": "1542cfed",
   "metadata": {},
   "outputs": [
    {
     "name": "stdout",
     "output_type": "stream",
     "text": [
      "                             tourney_id                  tourney_name surface  \\\n",
      "0                              2000-301                      Auckland    Hard   \n",
      "1                              2000-301                      Auckland    Hard   \n",
      "2                              2000-301                      Auckland    Hard   \n",
      "3                              2000-301                      Auckland    Hard   \n",
      "4                              2000-301                      Auckland    Hard   \n",
      "...                                 ...                           ...     ...   \n",
      "74901  2024-M-DC-2024-WG2-PO-URU-MDA-01  Davis Cup WG2 PO: URU vs MDA    Clay   \n",
      "74902  2024-M-DC-2024-WG2-PO-VIE-RSA-01  Davis Cup WG2 PO: VIE vs RSA    Hard   \n",
      "74903  2024-M-DC-2024-WG2-PO-VIE-RSA-01  Davis Cup WG2 PO: VIE vs RSA    Hard   \n",
      "74904  2024-M-DC-2024-WG2-PO-VIE-RSA-01  Davis Cup WG2 PO: VIE vs RSA    Hard   \n",
      "74905  2024-M-DC-2024-WG2-PO-VIE-RSA-01  Davis Cup WG2 PO: VIE vs RSA    Hard   \n",
      "\n",
      "       draw_size tourney_level tourney_date  match_num  winner_id  \\\n",
      "0             32             A   2000-01-10          1     103163   \n",
      "1             32             A   2000-01-10          2     102607   \n",
      "2             32             A   2000-01-10          3     103252   \n",
      "3             32             A   2000-01-10          4     103507   \n",
      "4             32             A   2000-01-10          5     102103   \n",
      "...          ...           ...          ...        ...        ...   \n",
      "74901          4             D   2024-02-03          5     212051   \n",
      "74902          4             D   2024-02-02          1     122533   \n",
      "74903          4             D   2024-02-02          2     144748   \n",
      "74904          4             D   2024-02-02          4     122533   \n",
      "74905          4             D   2024-02-02          5     202475   \n",
      "\n",
      "       winner_seed winner_entry  ... l_1stIn l_1stWon  l_2ndWon l_SvGms  \\\n",
      "0              1.0          NaN  ...    55.0     39.0      29.0    17.0   \n",
      "1              NaN            Q  ...    32.0     25.0      18.0    12.0   \n",
      "2              NaN          NaN  ...    33.0     20.0       7.0     8.0   \n",
      "3              7.0          NaN  ...    43.0     29.0      14.0    10.0   \n",
      "4              NaN            Q  ...    46.0     34.0      18.0    12.0   \n",
      "...            ...          ...  ...     ...      ...       ...     ...   \n",
      "74901          NaN          NaN  ...    30.0     17.0       7.0     6.0   \n",
      "74902          NaN          NaN  ...    41.0     25.0       6.0     9.0   \n",
      "74903          NaN          NaN  ...    51.0     25.0       7.0    11.0   \n",
      "74904          NaN          NaN  ...    51.0     32.0      17.0    14.0   \n",
      "74905          NaN          NaN  ...    53.0     25.0       8.0     8.0   \n",
      "\n",
      "       l_bpSaved  l_bpFaced  winner_rank winner_rank_points loser_rank  \\\n",
      "0            4.0        7.0         11.0             1612.0       63.0   \n",
      "1            3.0        6.0        211.0              157.0       49.0   \n",
      "2            7.0       11.0         48.0              726.0       59.0   \n",
      "3            6.0        8.0         45.0              768.0       61.0   \n",
      "4            5.0        9.0        167.0              219.0       34.0   \n",
      "...          ...        ...          ...                ...        ...   \n",
      "74901        8.0       14.0       1109.0                8.0      740.0   \n",
      "74902        1.0        4.0        554.0               67.0      748.0   \n",
      "74903        5.0       12.0        416.0              109.0        NaN   \n",
      "74904        5.0        9.0        554.0               67.0      416.0   \n",
      "74905        9.0       14.0        748.0               32.0        NaN   \n",
      "\n",
      "      loser_rank_points  \n",
      "0                 595.0  \n",
      "1                 723.0  \n",
      "2                 649.0  \n",
      "3                 616.0  \n",
      "4                 873.0  \n",
      "...                 ...  \n",
      "74901              34.0  \n",
      "74902              32.0  \n",
      "74903               NaN  \n",
      "74904             109.0  \n",
      "74905               NaN  \n",
      "\n",
      "[74906 rows x 49 columns]\n"
     ]
    }
   ],
   "source": [
    "import pandas as pd\n",
    "import os\n",
    "\n",
    "\n",
    "cwd = os.getcwd()\n",
    "absolute_path = os.path.join(cwd, '..')\n",
    "data = os.path.join(absolute_path,'data','processed','tennis_cleaned_data.csv')\n",
    "\n",
    "df = pd.read_csv(data)\n",
    "\n",
    "print(df)"
   ]
  },
  {
   "cell_type": "markdown",
   "id": "8a1715fd",
   "metadata": {},
   "source": [
    "1) List all players who won a tournament as a qualifier or lucky loser."
   ]
  }
 ],
 "metadata": {
  "kernelspec": {
   "display_name": "Python 3",
   "language": "python",
   "name": "python3"
  },
  "language_info": {
   "codemirror_mode": {
    "name": "ipython",
    "version": 3
   },
   "file_extension": ".py",
   "mimetype": "text/x-python",
   "name": "python",
   "nbconvert_exporter": "python",
   "pygments_lexer": "ipython3",
   "version": "3.13.2"
  }
 },
 "nbformat": 4,
 "nbformat_minor": 5
}
