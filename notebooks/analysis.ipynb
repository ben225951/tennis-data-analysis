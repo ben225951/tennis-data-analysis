{
 "cells": [
  {
   "cell_type": "markdown",
   "id": "e831ba87",
   "metadata": {},
   "source": [
    "# Analysis on ATP Tennis Matches (2000 - 2024)!"
   ]
  },
  {
   "cell_type": "markdown",
   "id": "ef6f54e6",
   "metadata": {},
   "source": [
    "Importing data into DataFrame"
   ]
  },
  {
   "cell_type": "code",
   "execution_count": null,
   "id": "b3ef4060",
   "metadata": {},
   "outputs": [],
   "source": [
    "import numpy as np\n",
    "import pandas as pd\n",
    "import os\n",
    "\n",
    "cwd = os.getcwd()\n",
    "file = os.path.join(cwd,\"..\",\"data\",\"processed\",\"tennis_cleaned_data.csv\")\n",
    "df = pd.read_csv(file)\n",
    "\n"
   ]
  },
  {
   "cell_type": "markdown",
   "id": "4edb9865",
   "metadata": {},
   "source": [
    "1) List all players who won a tournament as a lucky loser."
   ]
  },
  {
   "cell_type": "code",
   "execution_count": null,
   "id": "039d3e6a",
   "metadata": {},
   "outputs": [],
   "source": [
    "show_columns = ['winner_name','winner_entry','tourney_name','year','tourney_level']\n",
    "lucky_losers = df[(df['winner_entry']==\"LL\") & (df['round']==\"F\")][show_columns]\n",
    "\n",
    "print(\"Players who won a tournament as a lucky loser:\")\n",
    "display(lucky_losers.reset_index(drop=True))"
   ]
  },
  {
   "cell_type": "markdown",
   "id": "42a2679b",
   "metadata": {},
   "source": [
    "2) List all players who won a big tournament (Grand Slam or Masters) as a qualifier or wildcard."
   ]
  },
  {
   "cell_type": "code",
   "execution_count": null,
   "id": "ff86d1b2",
   "metadata": {},
   "outputs": [],
   "source": [
    "qual_or_wild = (df['winner_entry']==\"Q\") | (df['winner_entry']==\"WC\")\n",
    "big_tournament = df['tourney_level'].isin([\"G\",\"M\"])\n",
    "winners = df[qual_or_wild & big_tournament & (df['round']==\"F\")][show_columns]\n",
    "\n",
    "print(\"Players who won a big tournament (Grand Slam or Masters) as a qualifier or wildcard:\")\n",
    "display(winners.reset_index(drop=True))"
   ]
  },
  {
   "cell_type": "markdown",
   "id": "406201c4",
   "metadata": {},
   "source": [
    "3) List the top 10 youngest and oldest big tournament winners."
   ]
  },
  {
   "cell_type": "code",
   "execution_count": null,
   "id": "08a3b13d",
   "metadata": {},
   "outputs": [],
   "source": [
    "show_columns = ['winner_name','winner_age','tourney_name','year','tourney_level']\n",
    "winners = df[big_tournament & (df['round']==\"F\")][show_columns]\n",
    "\n",
    "#top 10 oldest\n",
    "oldest_winners=winners.sort_values(by='winner_age', ascending=False).head(10)\n",
    "\n",
    "print(\"Top 10 oldest big tournament (Grand Slam or Masters) champions:\")\n",
    "\n",
    "display(oldest_winners.reset_index(drop=True))\n",
    "\n",
    "\n",
    "#top 10 youngest\n",
    "\n",
    "#filters out next gen finals\n",
    "next_gen_mask = winners['tourney_name'].str.contains('next', case=False, na=False) & \\\n",
    "       winners['tourney_name'].str.contains('gen', case=False, na=False)\n",
    "\n",
    "winners_filtered = winners.drop(winners[next_gen_mask].index)\n",
    "\n",
    "youngest_winners=winners_filtered.sort_values(by='winner_age', ascending=True).head(10)\n",
    "\n",
    "print(\"Top 10 youngest big tournament (Grand Slam or Masters) champions:\")\n",
    "\n",
    "display(youngest_winners.reset_index(drop=True))\n"
   ]
  },
  {
   "cell_type": "markdown",
   "id": "92cc6108",
   "metadata": {},
   "source": [
    "4) List the top 10 lowest ranked big tournament winners."
   ]
  },
  {
   "cell_type": "code",
   "execution_count": null,
   "id": "f3d6143b",
   "metadata": {},
   "outputs": [],
   "source": [
    "\n",
    "show_columns = ['winner_name','winner_rank','tourney_name','year','tourney_level']\n",
    "winners = df[big_tournament & (df['round']==\"F\")][show_columns]\n",
    "lowest_ranked = winners.sort_values(by='winner_rank', ascending=False).head(10)\n",
    "\n",
    "print(\"Top 10 lowest ranked big tournament (Grand Slam or Masters) winners:\")\n",
    "display(lowest_ranked.reset_index(drop=True))"
   ]
  },
  {
   "cell_type": "markdown",
   "id": "b0194956",
   "metadata": {},
   "source": [
    "5) List the top 10 players with the most wins in the 2000s, 2010s and 2020s."
   ]
  },
  {
   "cell_type": "code",
   "execution_count": null,
   "id": "6a54e648",
   "metadata": {},
   "outputs": [],
   "source": [
    "filtered_df = df[df['score']!='W/O']\n",
    "\n",
    "decades = {\n",
    "    '2000s': (2000, 2009),\n",
    "    '2010s': (2010, 2019),\n",
    "    '2020s': (2020, 2024)\n",
    "}\n",
    "\n",
    "for label,(start,end) in decades.items():\n",
    "    decade_df = filtered_df[filtered_df['year'].between(start,end)]\n",
    "    win_counts = decade_df['winner_name'].value_counts()\n",
    "    table = win_counts.reset_index()\n",
    "\n",
    "    print(f\"Top 10 Winners in the {label}:\")\n",
    "    display(table.head(10))\n",
    "    print(\"\\n\" + \"=\"*40 + \"\\n\")"
   ]
  },
  {
   "cell_type": "markdown",
   "id": "0fe07a80",
   "metadata": {},
   "source": [
    "6) List the top 10 players with the most wins on each surface."
   ]
  },
  {
   "cell_type": "code",
   "execution_count": null,
   "id": "0b5eca67",
   "metadata": {},
   "outputs": [],
   "source": [
    "find_unique_surfaces = df['surface'].unique()\n",
    "\n",
    "filtered_df = df[(df['surface'].notnull()) & (df['score']!='W/O')]\n",
    "\n",
    "unique_surfaces = find_unique_surfaces[:-1]\n",
    "\n",
    "for surface in unique_surfaces:\n",
    "    surface_df = filtered_df[filtered_df['surface'] == surface]\n",
    "    win_counts = surface_df['winner_name'].value_counts()\n",
    "    table = win_counts.reset_index()\n",
    "\n",
    "    print(f\"Top 10 Winners on {surface}:\")\n",
    "    display(table.head(10))\n",
    "    print(\"\\n\" + \"=\"*40 + \"\\n\")\n",
    "    \n"
   ]
  },
  {
   "cell_type": "markdown",
   "id": "d5cc5822",
   "metadata": {},
   "source": [
    "7) Has a player ever beaten the Big 3 (Federer, Nadal, Djokovic) in the same tournament?"
   ]
  },
  {
   "cell_type": "code",
   "execution_count": null,
   "id": "6df02fb0",
   "metadata": {},
   "outputs": [],
   "source": [
    "show_columns = ['year','tourney_name','tourney_level','surface','round','winner_name','loser_name','score']\n",
    "\n",
    "big_3_lost_mask = df['loser_name'].str.contains('federer|nadal|djokovic', case=False, na=False)\n",
    "\n",
    "big_3_lost_filtered = df[big_3_lost_mask][show_columns]\n",
    "\n",
    "#keeps groups that have more than 2 rows (per tournament-year)\n",
    "big_3_lost = big_3_lost_filtered.groupby(['tourney_name','year','winner_name']).filter(lambda g: len(g) > 2)\n",
    "\n",
    "print(\"Instances where a player beat the Big 3 (Federer, Nadal, Djokovic) in the same tournament:\")\n",
    "display(big_3_lost.reset_index(drop=True))"
   ]
  },
  {
   "cell_type": "markdown",
   "id": "8d734390",
   "metadata": {},
   "source": [
    "8) List all big tournament matches that went 6-0, 6-0 or 6-0, 6-0, 6-0."
   ]
  },
  {
   "cell_type": "code",
   "execution_count": null,
   "id": "d7b3c31f",
   "metadata": {},
   "outputs": [],
   "source": [
    "bageled = df[big_tournament & (df['score'].isin(['6-0 6-0','6-0 6-0 6-0']))][show_columns]\n",
    "print(\"Big tournament matches (Grand Slam or Masters) that went 6-0, 6-0 or 6-0, 6-0, 6-0.\")\n",
    "display(bageled.reset_index(drop=True))"
   ]
  },
  {
   "cell_type": "markdown",
   "id": "db513cfd",
   "metadata": {},
   "source": [
    "9) Who is the youngest and oldest player to beat the world number one?"
   ]
  },
  {
   "cell_type": "code",
   "execution_count": null,
   "id": "97121e71",
   "metadata": {},
   "outputs": [],
   "source": [
    "show_columns = ['year','tourney_name','tourney_level','surface','round','winner_name','winner_age','winner_rank','loser_name','loser_age','loser_rank','score']\n",
    "number_one_lost = df[df['loser_rank']==1][show_columns]\n",
    "\n",
    "youngest_winners = number_one_lost.sort_values(by='winner_age', ascending=True).head(10)\n",
    "\n",
    "print(\"Top 10 youngest players to beat the world no. 1\")\n",
    "\n",
    "display(youngest_winners.reset_index(drop=True))\n",
    "\n",
    "oldest_winners = number_one_lost.sort_values(by='winner_age', ascending=False).head(10)\n",
    "\n",
    "print(\"Top 10 oldest players to beat the world no. 1\")\n",
    "\n",
    "display(oldest_winners.reset_index(drop=True))"
   ]
  },
  {
   "cell_type": "markdown",
   "id": "ddbb7fcc",
   "metadata": {},
   "source": [
    "10) List the top 10 players who have the most career aces."
   ]
  },
  {
   "cell_type": "code",
   "execution_count": null,
   "id": "7bcdcd87",
   "metadata": {},
   "outputs": [],
   "source": [
    "# Sum aces when player won\n",
    "aces_won = df.groupby('winner_name')['w_ace'].sum()\n",
    "\n",
    "# Sum aces when player lost\n",
    "aces_lost = df.groupby('loser_name')['l_ace'].sum()\n",
    "\n",
    "# Combine total aces per player\n",
    "total_aces = aces_won.add(aces_lost, fill_value=0)\n",
    "\n",
    "# Sort descending to find the highest\n",
    "total_aces_sorted = total_aces.sort_values(ascending=False)\n",
    "total_aces = total_aces_sorted.reset_index()\n",
    "total_aces.columns = ['player', 'total_aces']\n",
    "\n",
    "total_aces['total_aces'] = total_aces['total_aces'].astype(int)\n",
    "\n",
    "print(\"Top 10 player career aces:\")\n",
    "\n",
    "display(total_aces.head(10))\n",
    "\n"
   ]
  }
 ],
 "metadata": {
  "kernelspec": {
   "display_name": "Python 3",
   "language": "python",
   "name": "python3"
  },
  "language_info": {
   "codemirror_mode": {
    "name": "ipython",
    "version": 3
   },
   "file_extension": ".py",
   "mimetype": "text/x-python",
   "name": "python",
   "nbconvert_exporter": "python",
   "pygments_lexer": "ipython3",
   "version": "3.13.3"
  }
 },
 "nbformat": 4,
 "nbformat_minor": 5
}
